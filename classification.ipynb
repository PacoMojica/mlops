{
 "cells": [
  {
   "cell_type": "markdown",
   "metadata": {},
   "source": [
    "### imports"
   ]
  },
  {
   "cell_type": "code",
   "execution_count": 2,
   "metadata": {},
   "outputs": [
    {
     "name": "stderr",
     "output_type": "stream",
     "text": [
      "2022-10-15 17:50:39.563244: I tensorflow/core/platform/cpu_feature_guard.cc:193] This TensorFlow binary is optimized with oneAPI Deep Neural Network Library (oneDNN) to use the following CPU instructions in performance-critical operations:  AVX2 FMA\n",
      "To enable them in other operations, rebuild TensorFlow with the appropriate compiler flags.\n"
     ]
    }
   ],
   "source": [
    "import math\n",
    "import pandas as pd\n",
    "import numpy as np\n",
    "\n",
    "# Make numpy values easier to read.\n",
    "np.set_printoptions(precision=3, suppress=True)\n",
    "\n",
    "import matplotlib.pyplot as plt\n",
    "\n",
    "import tensorflow as tf\n",
    "from tensorflow.keras import layers"
   ]
  },
  {
   "cell_type": "code",
   "execution_count": 3,
   "metadata": {},
   "outputs": [
    {
     "data": {
      "text/html": [
       "<div>\n",
       "<style scoped>\n",
       "    .dataframe tbody tr th:only-of-type {\n",
       "        vertical-align: middle;\n",
       "    }\n",
       "\n",
       "    .dataframe tbody tr th {\n",
       "        vertical-align: top;\n",
       "    }\n",
       "\n",
       "    .dataframe thead th {\n",
       "        text-align: right;\n",
       "    }\n",
       "</style>\n",
       "<table border=\"1\" class=\"dataframe\">\n",
       "  <thead>\n",
       "    <tr style=\"text-align: right;\">\n",
       "      <th></th>\n",
       "      <th>BHK</th>\n",
       "      <th>Rent</th>\n",
       "      <th>Size</th>\n",
       "      <th>Super Area</th>\n",
       "      <th>Carpet Area</th>\n",
       "      <th>Built Area</th>\n",
       "      <th>Mumbai</th>\n",
       "      <th>Chennai</th>\n",
       "      <th>Bangalore</th>\n",
       "      <th>Hyderabad</th>\n",
       "      <th>...</th>\n",
       "      <th>Semi-Furnished</th>\n",
       "      <th>Unfurnished</th>\n",
       "      <th>Furnished</th>\n",
       "      <th>Bachelors/Family</th>\n",
       "      <th>Bachelors</th>\n",
       "      <th>Family</th>\n",
       "      <th>Bathroom</th>\n",
       "      <th>Contact Owner</th>\n",
       "      <th>Contact Agent</th>\n",
       "      <th>Contact Builder</th>\n",
       "    </tr>\n",
       "  </thead>\n",
       "  <tbody>\n",
       "    <tr>\n",
       "      <th>0</th>\n",
       "      <td>2</td>\n",
       "      <td>13000</td>\n",
       "      <td>1000</td>\n",
       "      <td>1</td>\n",
       "      <td>0</td>\n",
       "      <td>0</td>\n",
       "      <td>0</td>\n",
       "      <td>0</td>\n",
       "      <td>0</td>\n",
       "      <td>1</td>\n",
       "      <td>...</td>\n",
       "      <td>0</td>\n",
       "      <td>0</td>\n",
       "      <td>1</td>\n",
       "      <td>1</td>\n",
       "      <td>0</td>\n",
       "      <td>0</td>\n",
       "      <td>2</td>\n",
       "      <td>1</td>\n",
       "      <td>0</td>\n",
       "      <td>0</td>\n",
       "    </tr>\n",
       "    <tr>\n",
       "      <th>1</th>\n",
       "      <td>2</td>\n",
       "      <td>36000</td>\n",
       "      <td>690</td>\n",
       "      <td>0</td>\n",
       "      <td>1</td>\n",
       "      <td>0</td>\n",
       "      <td>1</td>\n",
       "      <td>0</td>\n",
       "      <td>0</td>\n",
       "      <td>0</td>\n",
       "      <td>...</td>\n",
       "      <td>1</td>\n",
       "      <td>0</td>\n",
       "      <td>0</td>\n",
       "      <td>0</td>\n",
       "      <td>1</td>\n",
       "      <td>0</td>\n",
       "      <td>2</td>\n",
       "      <td>0</td>\n",
       "      <td>1</td>\n",
       "      <td>0</td>\n",
       "    </tr>\n",
       "    <tr>\n",
       "      <th>2</th>\n",
       "      <td>1</td>\n",
       "      <td>5000</td>\n",
       "      <td>350</td>\n",
       "      <td>0</td>\n",
       "      <td>1</td>\n",
       "      <td>0</td>\n",
       "      <td>0</td>\n",
       "      <td>0</td>\n",
       "      <td>0</td>\n",
       "      <td>0</td>\n",
       "      <td>...</td>\n",
       "      <td>1</td>\n",
       "      <td>0</td>\n",
       "      <td>0</td>\n",
       "      <td>1</td>\n",
       "      <td>0</td>\n",
       "      <td>0</td>\n",
       "      <td>1</td>\n",
       "      <td>1</td>\n",
       "      <td>0</td>\n",
       "      <td>0</td>\n",
       "    </tr>\n",
       "    <tr>\n",
       "      <th>3</th>\n",
       "      <td>2</td>\n",
       "      <td>14000</td>\n",
       "      <td>500</td>\n",
       "      <td>1</td>\n",
       "      <td>0</td>\n",
       "      <td>0</td>\n",
       "      <td>0</td>\n",
       "      <td>0</td>\n",
       "      <td>1</td>\n",
       "      <td>0</td>\n",
       "      <td>...</td>\n",
       "      <td>1</td>\n",
       "      <td>0</td>\n",
       "      <td>0</td>\n",
       "      <td>1</td>\n",
       "      <td>0</td>\n",
       "      <td>0</td>\n",
       "      <td>2</td>\n",
       "      <td>1</td>\n",
       "      <td>0</td>\n",
       "      <td>0</td>\n",
       "    </tr>\n",
       "    <tr>\n",
       "      <th>4</th>\n",
       "      <td>2</td>\n",
       "      <td>16500</td>\n",
       "      <td>1200</td>\n",
       "      <td>1</td>\n",
       "      <td>0</td>\n",
       "      <td>0</td>\n",
       "      <td>0</td>\n",
       "      <td>0</td>\n",
       "      <td>1</td>\n",
       "      <td>0</td>\n",
       "      <td>...</td>\n",
       "      <td>1</td>\n",
       "      <td>0</td>\n",
       "      <td>0</td>\n",
       "      <td>1</td>\n",
       "      <td>0</td>\n",
       "      <td>0</td>\n",
       "      <td>2</td>\n",
       "      <td>1</td>\n",
       "      <td>0</td>\n",
       "      <td>0</td>\n",
       "    </tr>\n",
       "  </tbody>\n",
       "</table>\n",
       "<p>5 rows × 22 columns</p>\n",
       "</div>"
      ],
      "text/plain": [
       "   BHK   Rent  Size  Super Area  Carpet Area  Built Area  Mumbai  Chennai  \\\n",
       "0    2  13000  1000           1            0           0       0        0   \n",
       "1    2  36000   690           0            1           0       1        0   \n",
       "2    1   5000   350           0            1           0       0        0   \n",
       "3    2  14000   500           1            0           0       0        0   \n",
       "4    2  16500  1200           1            0           0       0        0   \n",
       "\n",
       "   Bangalore  Hyderabad  ...  Semi-Furnished  Unfurnished  Furnished  \\\n",
       "0          0          1  ...               0            0          1   \n",
       "1          0          0  ...               1            0          0   \n",
       "2          0          0  ...               1            0          0   \n",
       "3          1          0  ...               1            0          0   \n",
       "4          1          0  ...               1            0          0   \n",
       "\n",
       "   Bachelors/Family  Bachelors  Family  Bathroom  Contact Owner  \\\n",
       "0                 1          0       0         2              1   \n",
       "1                 0          1       0         2              0   \n",
       "2                 1          0       0         1              1   \n",
       "3                 1          0       0         2              1   \n",
       "4                 1          0       0         2              1   \n",
       "\n",
       "   Contact Agent  Contact Builder  \n",
       "0              0                0  \n",
       "1              1                0  \n",
       "2              0                0  \n",
       "3              0                0  \n",
       "4              0                0  \n",
       "\n",
       "[5 rows x 22 columns]"
      ]
     },
     "execution_count": 3,
     "metadata": {},
     "output_type": "execute_result"
    }
   ],
   "source": [
    "dataset = pd.read_csv(\"Formatted_Data.csv\", low_memory=False)\n",
    "dataset.head()"
   ]
  },
  {
   "cell_type": "markdown",
   "metadata": {},
   "source": [
    "### training and test set"
   ]
  },
  {
   "cell_type": "code",
   "execution_count": 4,
   "metadata": {},
   "outputs": [],
   "source": [
    "training_set_size = int(len(dataset.index) * 0.85)\n",
    "training_set = dataset[:training_set_size]\n",
    "test_set = dataset[training_set_size:]"
   ]
  },
  {
   "cell_type": "code",
   "execution_count": 5,
   "metadata": {},
   "outputs": [
    {
     "data": {
      "text/plain": [
       "4034"
      ]
     },
     "execution_count": 5,
     "metadata": {},
     "output_type": "execute_result"
    }
   ],
   "source": [
    "len(training_set.index)"
   ]
  },
  {
   "cell_type": "code",
   "execution_count": 6,
   "metadata": {},
   "outputs": [
    {
     "data": {
      "text/plain": [
       "712"
      ]
     },
     "execution_count": 6,
     "metadata": {},
     "output_type": "execute_result"
    }
   ],
   "source": [
    "len(test_set.index)"
   ]
  },
  {
   "cell_type": "markdown",
   "metadata": {},
   "source": [
    "## Area Type Classification"
   ]
  },
  {
   "cell_type": "code",
   "execution_count": 7,
   "metadata": {},
   "outputs": [],
   "source": [
    "area_types = ['Super Area', 'Carpet Area', 'Built Area']\n",
    "area_type_features = training_set.copy()\n",
    "area_type_labels = pd.concat([area_type_features.pop(x) for x in area_types], axis=1)"
   ]
  },
  {
   "cell_type": "code",
   "execution_count": 8,
   "metadata": {},
   "outputs": [
    {
     "name": "stdout",
     "output_type": "stream",
     "text": [
      "<class 'pandas.core.frame.DataFrame'>\n",
      "RangeIndex: 4034 entries, 0 to 4033\n",
      "Data columns (total 19 columns):\n",
      " #   Column            Non-Null Count  Dtype\n",
      "---  ------            --------------  -----\n",
      " 0   BHK               4034 non-null   int64\n",
      " 1   Rent              4034 non-null   int64\n",
      " 2   Size              4034 non-null   int64\n",
      " 3   Mumbai            4034 non-null   int64\n",
      " 4   Chennai           4034 non-null   int64\n",
      " 5   Bangalore         4034 non-null   int64\n",
      " 6   Hyderabad         4034 non-null   int64\n",
      " 7   Delhi             4034 non-null   int64\n",
      " 8   Kolkata           4034 non-null   int64\n",
      " 9   Semi-Furnished    4034 non-null   int64\n",
      " 10  Unfurnished       4034 non-null   int64\n",
      " 11  Furnished         4034 non-null   int64\n",
      " 12  Bachelors/Family  4034 non-null   int64\n",
      " 13  Bachelors         4034 non-null   int64\n",
      " 14  Family            4034 non-null   int64\n",
      " 15  Bathroom          4034 non-null   int64\n",
      " 16  Contact Owner     4034 non-null   int64\n",
      " 17  Contact Agent     4034 non-null   int64\n",
      " 18  Contact Builder   4034 non-null   int64\n",
      "dtypes: int64(19)\n",
      "memory usage: 598.9 KB\n"
     ]
    }
   ],
   "source": [
    "area_type_features.info()"
   ]
  },
  {
   "cell_type": "code",
   "execution_count": 9,
   "metadata": {},
   "outputs": [
    {
     "name": "stdout",
     "output_type": "stream",
     "text": [
      "<class 'pandas.core.frame.DataFrame'>\n",
      "RangeIndex: 4034 entries, 0 to 4033\n",
      "Data columns (total 3 columns):\n",
      " #   Column       Non-Null Count  Dtype\n",
      "---  ------       --------------  -----\n",
      " 0   Super Area   4034 non-null   int64\n",
      " 1   Carpet Area  4034 non-null   int64\n",
      " 2   Built Area   4034 non-null   int64\n",
      "dtypes: int64(3)\n",
      "memory usage: 94.7 KB\n"
     ]
    }
   ],
   "source": [
    "area_type_labels.info()"
   ]
  },
  {
   "cell_type": "markdown",
   "metadata": {},
   "source": [
    "### compile and train model"
   ]
  },
  {
   "cell_type": "code",
   "execution_count": 10,
   "metadata": {},
   "outputs": [
    {
     "name": "stderr",
     "output_type": "stream",
     "text": [
      "2022-10-15 17:50:45.049349: I tensorflow/core/platform/cpu_feature_guard.cc:193] This TensorFlow binary is optimized with oneAPI Deep Neural Network Library (oneDNN) to use the following CPU instructions in performance-critical operations:  AVX2 FMA\n",
      "To enable them in other operations, rebuild TensorFlow with the appropriate compiler flags.\n"
     ]
    },
    {
     "name": "stdout",
     "output_type": "stream",
     "text": [
      "Epoch 1/100\n",
      "127/127 [==============================] - 1s 2ms/step - loss: 0.1517 - accuracy: 0.7573\n",
      "Epoch 2/100\n",
      "127/127 [==============================] - 0s 1ms/step - loss: 0.1013 - accuracy: 0.8074\n",
      "Epoch 3/100\n",
      "127/127 [==============================] - 0s 1ms/step - loss: 0.0984 - accuracy: 0.8047\n",
      "Epoch 4/100\n",
      "127/127 [==============================] - 0s 1ms/step - loss: 0.0966 - accuracy: 0.8064\n",
      "Epoch 5/100\n",
      "127/127 [==============================] - 0s 1ms/step - loss: 0.0960 - accuracy: 0.8116\n",
      "Epoch 6/100\n",
      "127/127 [==============================] - 0s 1ms/step - loss: 0.0949 - accuracy: 0.8106\n",
      "Epoch 7/100\n",
      "127/127 [==============================] - 0s 1ms/step - loss: 0.0950 - accuracy: 0.8109\n",
      "Epoch 8/100\n",
      "127/127 [==============================] - 0s 1ms/step - loss: 0.0940 - accuracy: 0.8094\n",
      "Epoch 9/100\n",
      "127/127 [==============================] - 0s 1ms/step - loss: 0.0942 - accuracy: 0.8099\n",
      "Epoch 10/100\n",
      "127/127 [==============================] - 0s 1ms/step - loss: 0.0931 - accuracy: 0.8104\n",
      "Epoch 11/100\n",
      "127/127 [==============================] - 0s 1ms/step - loss: 0.0931 - accuracy: 0.8123\n",
      "Epoch 12/100\n",
      "127/127 [==============================] - 0s 1ms/step - loss: 0.0927 - accuracy: 0.8141\n",
      "Epoch 13/100\n",
      "127/127 [==============================] - 0s 1ms/step - loss: 0.0936 - accuracy: 0.8146\n",
      "Epoch 14/100\n",
      "127/127 [==============================] - 0s 1ms/step - loss: 0.0930 - accuracy: 0.8104\n",
      "Epoch 15/100\n",
      "127/127 [==============================] - 0s 1ms/step - loss: 0.0934 - accuracy: 0.8111\n",
      "Epoch 16/100\n",
      "127/127 [==============================] - 0s 1ms/step - loss: 0.0923 - accuracy: 0.8143\n",
      "Epoch 17/100\n",
      "127/127 [==============================] - 0s 1ms/step - loss: 0.0918 - accuracy: 0.8136\n",
      "Epoch 18/100\n",
      "127/127 [==============================] - 0s 1ms/step - loss: 0.0925 - accuracy: 0.8121\n",
      "Epoch 19/100\n",
      "127/127 [==============================] - 0s 1ms/step - loss: 0.0928 - accuracy: 0.8138\n",
      "Epoch 20/100\n",
      "127/127 [==============================] - 0s 1ms/step - loss: 0.0925 - accuracy: 0.8146\n",
      "Epoch 21/100\n",
      "127/127 [==============================] - 0s 1ms/step - loss: 0.0910 - accuracy: 0.8143\n",
      "Epoch 22/100\n",
      "127/127 [==============================] - 0s 1ms/step - loss: 0.0910 - accuracy: 0.8136\n",
      "Epoch 23/100\n",
      "127/127 [==============================] - 0s 1ms/step - loss: 0.0914 - accuracy: 0.8126\n",
      "Epoch 24/100\n",
      "127/127 [==============================] - 0s 1ms/step - loss: 0.0904 - accuracy: 0.8151\n",
      "Epoch 25/100\n",
      "127/127 [==============================] - 0s 1ms/step - loss: 0.0907 - accuracy: 0.8151\n",
      "Epoch 26/100\n",
      "127/127 [==============================] - 0s 1ms/step - loss: 0.0913 - accuracy: 0.8173\n",
      "Epoch 27/100\n",
      "127/127 [==============================] - 0s 1ms/step - loss: 0.0908 - accuracy: 0.8143\n",
      "Epoch 28/100\n",
      "127/127 [==============================] - 0s 1ms/step - loss: 0.0898 - accuracy: 0.8171\n",
      "Epoch 29/100\n",
      "127/127 [==============================] - 0s 1ms/step - loss: 0.0906 - accuracy: 0.8116\n",
      "Epoch 30/100\n",
      "127/127 [==============================] - 0s 1ms/step - loss: 0.0907 - accuracy: 0.8161\n",
      "Epoch 31/100\n",
      "127/127 [==============================] - 0s 1ms/step - loss: 0.0899 - accuracy: 0.8143\n",
      "Epoch 32/100\n",
      "127/127 [==============================] - 0s 1ms/step - loss: 0.0899 - accuracy: 0.8158\n",
      "Epoch 33/100\n",
      "127/127 [==============================] - 0s 1ms/step - loss: 0.0900 - accuracy: 0.8136\n",
      "Epoch 34/100\n",
      "127/127 [==============================] - 0s 1ms/step - loss: 0.0900 - accuracy: 0.8123\n",
      "Epoch 35/100\n",
      "127/127 [==============================] - 0s 1ms/step - loss: 0.0906 - accuracy: 0.8171\n",
      "Epoch 36/100\n",
      "127/127 [==============================] - 0s 1ms/step - loss: 0.0904 - accuracy: 0.8163\n",
      "Epoch 37/100\n",
      "127/127 [==============================] - 0s 1ms/step - loss: 0.0895 - accuracy: 0.8188\n",
      "Epoch 38/100\n",
      "127/127 [==============================] - 0s 1ms/step - loss: 0.0893 - accuracy: 0.8143\n",
      "Epoch 39/100\n",
      "127/127 [==============================] - 0s 1ms/step - loss: 0.0889 - accuracy: 0.8168\n",
      "Epoch 40/100\n",
      "127/127 [==============================] - 0s 1ms/step - loss: 0.0889 - accuracy: 0.8126\n",
      "Epoch 41/100\n",
      "127/127 [==============================] - 0s 1ms/step - loss: 0.0885 - accuracy: 0.8166\n",
      "Epoch 42/100\n",
      "127/127 [==============================] - 0s 1ms/step - loss: 0.0887 - accuracy: 0.8185\n",
      "Epoch 43/100\n",
      "127/127 [==============================] - 0s 1ms/step - loss: 0.0888 - accuracy: 0.8158\n",
      "Epoch 44/100\n",
      "127/127 [==============================] - 0s 1ms/step - loss: 0.0896 - accuracy: 0.8161\n",
      "Epoch 45/100\n",
      "127/127 [==============================] - 0s 2ms/step - loss: 0.0889 - accuracy: 0.8210\n",
      "Epoch 46/100\n",
      "127/127 [==============================] - 0s 2ms/step - loss: 0.0893 - accuracy: 0.8195\n",
      "Epoch 47/100\n",
      "127/127 [==============================] - 0s 1ms/step - loss: 0.0883 - accuracy: 0.8193\n",
      "Epoch 48/100\n",
      "127/127 [==============================] - 0s 1ms/step - loss: 0.0883 - accuracy: 0.8213\n",
      "Epoch 49/100\n",
      "127/127 [==============================] - 0s 2ms/step - loss: 0.0896 - accuracy: 0.8178\n",
      "Epoch 50/100\n",
      "127/127 [==============================] - 0s 1ms/step - loss: 0.0884 - accuracy: 0.8205\n",
      "Epoch 51/100\n",
      "127/127 [==============================] - 0s 1ms/step - loss: 0.0884 - accuracy: 0.8176\n",
      "Epoch 52/100\n",
      "127/127 [==============================] - 0s 1ms/step - loss: 0.0879 - accuracy: 0.8233\n",
      "Epoch 53/100\n",
      "127/127 [==============================] - 0s 1ms/step - loss: 0.0880 - accuracy: 0.8190\n",
      "Epoch 54/100\n",
      "127/127 [==============================] - 0s 1ms/step - loss: 0.0879 - accuracy: 0.8188\n",
      "Epoch 55/100\n",
      "127/127 [==============================] - 0s 1ms/step - loss: 0.0876 - accuracy: 0.8176\n",
      "Epoch 56/100\n",
      "127/127 [==============================] - 0s 1ms/step - loss: 0.0881 - accuracy: 0.8171\n",
      "Epoch 57/100\n",
      "127/127 [==============================] - 0s 1ms/step - loss: 0.0884 - accuracy: 0.8173\n",
      "Epoch 58/100\n",
      "127/127 [==============================] - 0s 2ms/step - loss: 0.0885 - accuracy: 0.8190\n",
      "Epoch 59/100\n",
      "127/127 [==============================] - 0s 1ms/step - loss: 0.0876 - accuracy: 0.8183\n",
      "Epoch 60/100\n",
      "127/127 [==============================] - 0s 1ms/step - loss: 0.0876 - accuracy: 0.8188\n",
      "Epoch 61/100\n",
      "127/127 [==============================] - 0s 1ms/step - loss: 0.0887 - accuracy: 0.8218\n",
      "Epoch 62/100\n",
      "127/127 [==============================] - 0s 1ms/step - loss: 0.0880 - accuracy: 0.8188\n",
      "Epoch 63/100\n",
      "127/127 [==============================] - 0s 1ms/step - loss: 0.0881 - accuracy: 0.8205\n",
      "Epoch 64/100\n",
      "127/127 [==============================] - 0s 1ms/step - loss: 0.0878 - accuracy: 0.8220\n",
      "Epoch 65/100\n",
      "127/127 [==============================] - 0s 1ms/step - loss: 0.0891 - accuracy: 0.8180\n",
      "Epoch 66/100\n",
      "127/127 [==============================] - 0s 1ms/step - loss: 0.0875 - accuracy: 0.8233\n",
      "Epoch 67/100\n",
      "127/127 [==============================] - 0s 1ms/step - loss: 0.0878 - accuracy: 0.8215\n",
      "Epoch 68/100\n",
      "127/127 [==============================] - 0s 1ms/step - loss: 0.0867 - accuracy: 0.8237\n",
      "Epoch 69/100\n",
      "127/127 [==============================] - 0s 1ms/step - loss: 0.0868 - accuracy: 0.8220\n",
      "Epoch 70/100\n",
      "127/127 [==============================] - 0s 1ms/step - loss: 0.0870 - accuracy: 0.8245\n",
      "Epoch 71/100\n",
      "127/127 [==============================] - 0s 1ms/step - loss: 0.0864 - accuracy: 0.8257\n",
      "Epoch 72/100\n",
      "127/127 [==============================] - 0s 1ms/step - loss: 0.0871 - accuracy: 0.8205\n",
      "Epoch 73/100\n",
      "127/127 [==============================] - 0s 1ms/step - loss: 0.0877 - accuracy: 0.8235\n",
      "Epoch 74/100\n",
      "127/127 [==============================] - 0s 1ms/step - loss: 0.0886 - accuracy: 0.8218\n",
      "Epoch 75/100\n",
      "127/127 [==============================] - 0s 1ms/step - loss: 0.0860 - accuracy: 0.8245\n",
      "Epoch 76/100\n",
      "127/127 [==============================] - 0s 1ms/step - loss: 0.0876 - accuracy: 0.8233\n",
      "Epoch 77/100\n",
      "127/127 [==============================] - 0s 1ms/step - loss: 0.0855 - accuracy: 0.8242\n",
      "Epoch 78/100\n",
      "127/127 [==============================] - 0s 1ms/step - loss: 0.0868 - accuracy: 0.8235\n",
      "Epoch 79/100\n",
      "127/127 [==============================] - 0s 1ms/step - loss: 0.0871 - accuracy: 0.8237\n",
      "Epoch 80/100\n",
      "127/127 [==============================] - 0s 1ms/step - loss: 0.0871 - accuracy: 0.8242\n",
      "Epoch 81/100\n",
      "127/127 [==============================] - 0s 1ms/step - loss: 0.0851 - accuracy: 0.8290\n",
      "Epoch 82/100\n",
      "127/127 [==============================] - 0s 1ms/step - loss: 0.0856 - accuracy: 0.8235\n",
      "Epoch 83/100\n",
      "127/127 [==============================] - 0s 1ms/step - loss: 0.0863 - accuracy: 0.8257\n",
      "Epoch 84/100\n",
      "127/127 [==============================] - 0s 1ms/step - loss: 0.0868 - accuracy: 0.8267\n",
      "Epoch 85/100\n",
      "127/127 [==============================] - 0s 1ms/step - loss: 0.0873 - accuracy: 0.8245\n",
      "Epoch 86/100\n",
      "127/127 [==============================] - 0s 1ms/step - loss: 0.0864 - accuracy: 0.8257\n",
      "Epoch 87/100\n",
      "127/127 [==============================] - 0s 1ms/step - loss: 0.0860 - accuracy: 0.8257\n",
      "Epoch 88/100\n",
      "127/127 [==============================] - 0s 1ms/step - loss: 0.0865 - accuracy: 0.8235\n",
      "Epoch 89/100\n",
      "127/127 [==============================] - 0s 1ms/step - loss: 0.0858 - accuracy: 0.8285\n",
      "Epoch 90/100\n",
      "127/127 [==============================] - 0s 1ms/step - loss: 0.0865 - accuracy: 0.8230\n",
      "Epoch 91/100\n",
      "127/127 [==============================] - 0s 1ms/step - loss: 0.0870 - accuracy: 0.8257\n",
      "Epoch 92/100\n",
      "127/127 [==============================] - 0s 1ms/step - loss: 0.0866 - accuracy: 0.8260\n",
      "Epoch 93/100\n",
      "127/127 [==============================] - 0s 1ms/step - loss: 0.0857 - accuracy: 0.8242\n",
      "Epoch 94/100\n",
      "127/127 [==============================] - 0s 1ms/step - loss: 0.0852 - accuracy: 0.8245\n",
      "Epoch 95/100\n",
      "127/127 [==============================] - 0s 1ms/step - loss: 0.0863 - accuracy: 0.8260\n",
      "Epoch 96/100\n",
      "127/127 [==============================] - 0s 1ms/step - loss: 0.0853 - accuracy: 0.8242\n",
      "Epoch 97/100\n",
      "127/127 [==============================] - 0s 1ms/step - loss: 0.0858 - accuracy: 0.8230\n",
      "Epoch 98/100\n",
      "127/127 [==============================] - 0s 1ms/step - loss: 0.0866 - accuracy: 0.8277\n",
      "Epoch 99/100\n",
      "127/127 [==============================] - 0s 1ms/step - loss: 0.0853 - accuracy: 0.8275\n",
      "Epoch 100/100\n",
      "127/127 [==============================] - 0s 1ms/step - loss: 0.0854 - accuracy: 0.8233\n"
     ]
    },
    {
     "data": {
      "text/plain": [
       "<keras.callbacks.History at 0x14331c640>"
      ]
     },
     "execution_count": 10,
     "metadata": {},
     "output_type": "execute_result"
    }
   ],
   "source": [
    "area_type_normalize = layers.Normalization()\n",
    "area_type_normalize.adapt(area_type_features)\n",
    "area_type_model = tf.keras.Sequential([\n",
    "  area_type_normalize,\n",
    "  # layers.Dense(256),\n",
    "  # layers.Dense(256, activation='relu'),\n",
    "  layers.Dense(128, activation='relu'),\n",
    "  layers.Dense(3)\n",
    "])\n",
    "area_type_model.compile(\n",
    "    optimizer='adam',\n",
    "    loss = tf.keras.losses.MeanSquaredError(),\n",
    "    # loss='categorical_crossentropy',\n",
    "    metrics=['accuracy'])\n",
    "area_type_model.fit(area_type_features, area_type_labels, epochs=100)"
   ]
  },
  {
   "cell_type": "markdown",
   "metadata": {},
   "source": [
    "### evaluate model"
   ]
  },
  {
   "cell_type": "code",
   "execution_count": 11,
   "metadata": {},
   "outputs": [],
   "source": [
    "area_type_test_features = test_set.copy()\n",
    "area_type_test_labels = pd.concat([area_type_test_features.pop(x) for x in area_types], axis=1)"
   ]
  },
  {
   "cell_type": "code",
   "execution_count": 12,
   "metadata": {},
   "outputs": [
    {
     "name": "stdout",
     "output_type": "stream",
     "text": [
      "<class 'pandas.core.frame.DataFrame'>\n",
      "RangeIndex: 712 entries, 4034 to 4745\n",
      "Data columns (total 19 columns):\n",
      " #   Column            Non-Null Count  Dtype\n",
      "---  ------            --------------  -----\n",
      " 0   BHK               712 non-null    int64\n",
      " 1   Rent              712 non-null    int64\n",
      " 2   Size              712 non-null    int64\n",
      " 3   Mumbai            712 non-null    int64\n",
      " 4   Chennai           712 non-null    int64\n",
      " 5   Bangalore         712 non-null    int64\n",
      " 6   Hyderabad         712 non-null    int64\n",
      " 7   Delhi             712 non-null    int64\n",
      " 8   Kolkata           712 non-null    int64\n",
      " 9   Semi-Furnished    712 non-null    int64\n",
      " 10  Unfurnished       712 non-null    int64\n",
      " 11  Furnished         712 non-null    int64\n",
      " 12  Bachelors/Family  712 non-null    int64\n",
      " 13  Bachelors         712 non-null    int64\n",
      " 14  Family            712 non-null    int64\n",
      " 15  Bathroom          712 non-null    int64\n",
      " 16  Contact Owner     712 non-null    int64\n",
      " 17  Contact Agent     712 non-null    int64\n",
      " 18  Contact Builder   712 non-null    int64\n",
      "dtypes: int64(19)\n",
      "memory usage: 105.8 KB\n"
     ]
    }
   ],
   "source": [
    "area_type_test_features.info()"
   ]
  },
  {
   "cell_type": "code",
   "execution_count": 13,
   "metadata": {},
   "outputs": [
    {
     "name": "stdout",
     "output_type": "stream",
     "text": [
      "<class 'pandas.core.frame.DataFrame'>\n",
      "RangeIndex: 712 entries, 4034 to 4745\n",
      "Data columns (total 3 columns):\n",
      " #   Column       Non-Null Count  Dtype\n",
      "---  ------       --------------  -----\n",
      " 0   Super Area   712 non-null    int64\n",
      " 1   Carpet Area  712 non-null    int64\n",
      " 2   Built Area   712 non-null    int64\n",
      "dtypes: int64(3)\n",
      "memory usage: 16.8 KB\n"
     ]
    }
   ],
   "source": [
    "area_type_test_labels.info()"
   ]
  },
  {
   "cell_type": "code",
   "execution_count": 14,
   "metadata": {},
   "outputs": [
    {
     "name": "stdout",
     "output_type": "stream",
     "text": [
      "23/23 - 0s - loss: 808750720.0000 - accuracy: 0.8076 - 173ms/epoch - 8ms/step\n",
      "\n",
      "Test accuracy: 0.807584285736084\n"
     ]
    }
   ],
   "source": [
    "test_loss, test_acc = area_type_model.evaluate(area_type_test_features,  area_type_test_labels, verbose=2)\n",
    "\n",
    "print('\\nTest accuracy:', test_acc)"
   ]
  },
  {
   "cell_type": "markdown",
   "metadata": {},
   "source": [
    "### predict"
   ]
  },
  {
   "cell_type": "code",
   "execution_count": 15,
   "metadata": {},
   "outputs": [],
   "source": [
    "area_type_probability_model = tf.keras.Sequential([\n",
    "    area_type_model, \n",
    "    tf.keras.layers.Softmax()])"
   ]
  },
  {
   "cell_type": "code",
   "execution_count": 16,
   "metadata": {},
   "outputs": [
    {
     "name": "stdout",
     "output_type": "stream",
     "text": [
      "23/23 [==============================] - 0s 1ms/step\n"
     ]
    }
   ],
   "source": [
    "area_type_predictions = area_type_probability_model.predict(area_type_test_features)"
   ]
  },
  {
   "cell_type": "code",
   "execution_count": 17,
   "metadata": {},
   "outputs": [
    {
     "data": {
      "text/plain": [
       "array([0.486, 0.28 , 0.234], dtype=float32)"
      ]
     },
     "execution_count": 17,
     "metadata": {},
     "output_type": "execute_result"
    }
   ],
   "source": [
    "area_type_predictions[0]"
   ]
  },
  {
   "cell_type": "code",
   "execution_count": 18,
   "metadata": {},
   "outputs": [
    {
     "data": {
      "text/plain": [
       "0"
      ]
     },
     "execution_count": 18,
     "metadata": {},
     "output_type": "execute_result"
    }
   ],
   "source": [
    "np.argmax(area_type_predictions[0])"
   ]
  },
  {
   "cell_type": "code",
   "execution_count": 19,
   "metadata": {},
   "outputs": [
    {
     "data": {
      "text/plain": [
       "0"
      ]
     },
     "execution_count": 19,
     "metadata": {},
     "output_type": "execute_result"
    }
   ],
   "source": [
    "np.argmax(area_type_test_labels.iloc[0])"
   ]
  },
  {
   "cell_type": "code",
   "execution_count": 20,
   "metadata": {},
   "outputs": [
    {
     "data": {
      "image/png": "[encoded data removed]",
      "text/plain": [
       "<Figure size 1000x1000 with 100 Axes>"
      ]
     },
     "metadata": {},
     "output_type": "display_data"
    }
   ],
   "source": [
    "def plot_value_array(i, predictions_array, true_label_array):\n",
    "  plt.grid(False)\n",
    "  plt.xticks(range(3))\n",
    "  plt.yticks([])\n",
    "  thisplot = plt.bar(range(3), predictions_array, color=\"#777777\")\n",
    "  plt.ylim([0, 1])\n",
    "  true_label = np.argmax(true_label_array)\n",
    "  predicted_label = np.argmax(predictions_array)\n",
    "\n",
    "  thisplot[predicted_label].set_color('red')\n",
    "  thisplot[true_label].set_color('blue')\n",
    "\n",
    "num_cols = 10\n",
    "num_rows = 10\n",
    "num_images = num_rows*num_cols\n",
    "plt.figure(figsize=(num_cols, num_rows))\n",
    "for i in range(num_images):\n",
    "  plt.subplot(num_rows, num_cols, i+1)\n",
    "  plot_value_array(i, area_type_predictions[i], area_type_test_labels.iloc[i])\n",
    "plt.tight_layout()\n",
    "plt.show()"
   ]
  }
 ],
 "metadata": {
  "kernelspec": {
   "display_name": "Python 3.9.6 ('venv': venv)",
   "language": "python",
   "name": "python3"
  },
  "language_info": {
   "codemirror_mode": {
    "name": "ipython",
    "version": 3
   },
   "file_extension": ".py",
   "mimetype": "text/x-python",
   "name": "python",
   "nbconvert_exporter": "python",
   "pygments_lexer": "ipython3",
   "version": "3.9.6"
  },
  "orig_nbformat": 4,
  "vscode": {
   "interpreter": {
    "hash": "9580b5511aed5bcbcc28fa61cfa11dbdaa974392b5d46eef4ba0b93ce8e022f9"
   }
  }
 },
 "nbformat": 4,
 "nbformat_minor": 2
}
