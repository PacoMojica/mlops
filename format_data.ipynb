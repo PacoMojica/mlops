{
 "cells": [
  {
   "cell_type": "markdown",
   "metadata": {},
   "source": [
    "### imports"
   ]
  },
  {
   "cell_type": "code",
   "execution_count": 3,
   "metadata": {},
   "outputs": [],
   "source": [
    "import pandas as pd"
   ]
  },
  {
   "cell_type": "markdown",
   "metadata": {},
   "source": [
    "### params"
   ]
  },
  {
   "cell_type": "code",
   "execution_count": 4,
   "metadata": {},
   "outputs": [],
   "source": [
    "FORMATTED_NAME = 'Formatted_Data.csv'"
   ]
  },
  {
   "cell_type": "code",
   "execution_count": 5,
   "metadata": {},
   "outputs": [],
   "source": [
    "ATTRIBUTES = [\n",
    "    \"BHK\",\n",
    "    \"Rent\",\n",
    "    \"Size\",\n",
    "    \"Area Type\",\n",
    "    \"City\",\n",
    "    \"Furnishing Status\",\n",
    "    \"Tenant Preferred\",\n",
    "    \"Bathroom\",\n",
    "    \"Point of Contact\",\n",
    "]"
   ]
  },
  {
   "cell_type": "code",
   "execution_count": 6,
   "metadata": {},
   "outputs": [],
   "source": [
    "VALUE_MAP = {\n",
    "    'Furnishing Status': ['Semi-Furnished', 'Unfurnished', 'Furnished'],\n",
    "    'Area Type': ['Super Area', 'Carpet Area', 'Built Area'],\n",
    "    'City': ['Mumbai', 'Chennai', 'Bangalore', 'Hyderabad', 'Delhi', 'Kolkata'],\n",
    "    'Tenant Preferred': ['Bachelors/Family', 'Bachelors', 'Family'],\n",
    "    'Point of Contact': ['Contact Owner', 'Contact Agent', 'Contact Builder'],\n",
    "}"
   ]
  },
  {
   "cell_type": "markdown",
   "metadata": {},
   "source": [
    "### prepare dataset"
   ]
  },
  {
   "cell_type": "code",
   "execution_count": 7,
   "metadata": {},
   "outputs": [],
   "source": [
    "df = pd.read_csv(\"House_Rent_Dataset.csv\", low_memory=False)"
   ]
  },
  {
   "cell_type": "code",
   "execution_count": 8,
   "metadata": {},
   "outputs": [],
   "source": [
    "df = df.sample(frac=1).reset_index(drop=True)"
   ]
  },
  {
   "cell_type": "markdown",
   "metadata": {},
   "source": [
    "### format values"
   ]
  },
  {
   "cell_type": "code",
   "execution_count": 9,
   "metadata": {},
   "outputs": [],
   "source": [
    "formatted_data = []\n",
    "for index, row in df.iterrows():\n",
    "    formatted_row = []\n",
    "    for column in ATTRIBUTES:\n",
    "        raw_value = row[column]\n",
    "        if column in VALUE_MAP:\n",
    "            formatted_values = [\n",
    "                1 if raw_value == attribute else 0 \n",
    "                for attribute\n",
    "                in VALUE_MAP[column]\n",
    "            ]\n",
    "            formatted_row.extend(formatted_values)\n",
    "        else:\n",
    "            formatted_row.append(raw_value)\n",
    "    formatted_data.append(formatted_row)"
   ]
  },
  {
   "cell_type": "code",
   "execution_count": 10,
   "metadata": {},
   "outputs": [],
   "source": [
    "columns = []\n",
    "\n",
    "for column in ATTRIBUTES:\n",
    "    if column in VALUE_MAP:\n",
    "        columns.extend(VALUE_MAP[column])\n",
    "    else:\n",
    "        columns.append(column)"
   ]
  },
  {
   "cell_type": "code",
   "execution_count": 11,
   "metadata": {},
   "outputs": [],
   "source": [
    "formatted_df = pd.DataFrame(formatted_data, columns=columns)\n",
    "formatted_df.to_csv(FORMATTED_NAME, encoding='utf-8', index=False)"
   ]
  }
 ],
 "metadata": {
  "kernelspec": {
   "display_name": "Python 3.9.6 ('venv': venv)",
   "language": "python",
   "name": "python3"
  },
  "language_info": {
   "codemirror_mode": {
    "name": "ipython",
    "version": 3
   },
   "file_extension": ".py",
   "mimetype": "text/x-python",
   "name": "python",
   "nbconvert_exporter": "python",
   "pygments_lexer": "ipython3",
   "version": "3.9.6"
  },
  "orig_nbformat": 4,
  "vscode": {
   "interpreter": {
    "hash": "9580b5511aed5bcbcc28fa61cfa11dbdaa974392b5d46eef4ba0b93ce8e022f9"
   }
  }
 },
 "nbformat": 4,
 "nbformat_minor": 2
}
